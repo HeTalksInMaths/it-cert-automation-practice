{
  "nbformat": 4,
  "nbformat_minor": 0,
  "metadata": {
    "colab": {
      "name": "QOSF Task #2 Final Version",
      "provenance": [],
      "collapsed_sections": [],
      "authorship_tag": "ABX9TyMxgMDQdlF5wdn0UySXbRAa",
      "include_colab_link": true
    },
    "kernelspec": {
      "name": "python3",
      "display_name": "Python 3"
    }
  },
  "cells": [
    {
      "cell_type": "markdown",
      "metadata": {
        "id": "view-in-github",
        "colab_type": "text"
      },
      "source": [
        "<a href=\"https://colab.research.google.com/github/HeTalksInMaths/it-cert-automation-practice/blob/master/QOSF_Task_2_Final_Version.ipynb\" target=\"_parent\"><img src=\"https://colab.research.google.com/assets/colab-badge.svg\" alt=\"Open In Colab\"/></a>"
      ]
    },
    {
      "cell_type": "markdown",
      "metadata": {
        "id": "obM_dVEkChnl"
      },
      "source": [
        "We make use of the pennylane framework for our task to learn parametrs in our quantum circuit to produce 01 and 10 with 1/2 probability each."
      ]
    },
    {
      "cell_type": "code",
      "metadata": {
        "id": "GB1qAd0kjFLg",
        "outputId": "37bdcd46-64e2-4836-e66b-76bedd2967e6",
        "colab": {
          "base_uri": "https://localhost:8080/",
          "height": 185
        }
      },
      "source": [
        "# !pip install pennylane   # uncomment first hash for installation on Colab\n",
        "import pennylane as qml\n",
        "from pennylane import numpy as np"
      ],
      "execution_count": 1,
      "outputs": [
        {
          "output_type": "stream",
          "text": [
            "Requirement already satisfied: pennylane in /usr/local/lib/python3.6/dist-packages (0.11.0)\n",
            "Requirement already satisfied: appdirs in /usr/local/lib/python3.6/dist-packages (from pennylane) (1.4.4)\n",
            "Requirement already satisfied: autograd in /usr/local/lib/python3.6/dist-packages (from pennylane) (1.3)\n",
            "Requirement already satisfied: networkx in /usr/local/lib/python3.6/dist-packages (from pennylane) (2.5)\n",
            "Requirement already satisfied: toml in /usr/local/lib/python3.6/dist-packages (from pennylane) (0.10.1)\n",
            "Requirement already satisfied: semantic-version==2.6 in /usr/local/lib/python3.6/dist-packages (from pennylane) (2.6.0)\n",
            "Requirement already satisfied: numpy in /usr/local/lib/python3.6/dist-packages (from pennylane) (1.18.5)\n",
            "Requirement already satisfied: scipy in /usr/local/lib/python3.6/dist-packages (from pennylane) (1.4.1)\n",
            "Requirement already satisfied: future>=0.15.2 in /usr/local/lib/python3.6/dist-packages (from autograd->pennylane) (0.16.0)\n",
            "Requirement already satisfied: decorator>=4.3.0 in /usr/local/lib/python3.6/dist-packages (from networkx->pennylane) (4.4.2)\n"
          ],
          "name": "stdout"
        }
      ]
    },
    {
      "cell_type": "markdown",
      "metadata": {
        "id": "XEi0dqJ3_1SB"
      },
      "source": [
        "We set the analytic parameter in our device initialization to False to introduce stochastisity in our measurements and later make use of dev.shots to adjust the number of measurements.\n"
      ]
    },
    {
      "cell_type": "code",
      "metadata": {
        "id": "htAPY1qMt1vN"
      },
      "source": [
        "dev = qml.device(\"default.qubit\", wires=2, analytic = False)"
      ],
      "execution_count": 2,
      "outputs": []
    },
    {
      "cell_type": "markdown",
      "metadata": {
        "id": "lcf7UMVpATpR"
      },
      "source": [
        "Let us start with a simple structure where we have expected results so that the focus is on developing intutition in the parameter learning. With two RY gates (with both qubits inititalized as 0) and a subsequent CNOT between the wires one expected result would be for the parameters to equal [pi/2, pi]. \n",
        "\n",
        "\n",
        "RY(pi/2) sends the first qubit from 0 to + (as is usually prescribed for creating a Bell State before application of the CNOT gate) and RY(pi) send the second qubit from 0 to 1. The subsequent CNOT then results in mismatched qubit values."
      ]
    },
    {
      "cell_type": "code",
      "metadata": {
        "id": "winRkmoJt6QV"
      },
      "source": [
        "@qml.qnode(dev)\n",
        "def circuit(params):\n",
        "  qml.RY(params[0], wires=0)\n",
        "  qml.RY(params[1], wires=1)\n",
        "  qml.CNOT(wires=[0,1])\n",
        "  return qml.probs(wires=[0,1])"
      ],
      "execution_count": 75,
      "outputs": []
    },
    {
      "cell_type": "markdown",
      "metadata": {
        "id": "A74J7sAye0ZK"
      },
      "source": [
        "We set the seed for reprodcubility and test our prior intution regarding the parameters with a large sample size (to get close to the theoeretical limit).\n",
        "\n",
        "We also draw the circuit for clarity."
      ]
    },
    {
      "cell_type": "code",
      "metadata": {
        "id": "m-acNU-ZepQR",
        "outputId": "23c95c51-39bd-469e-a865-2bb299d4e069",
        "colab": {
          "base_uri": "https://localhost:8080/",
          "height": 34
        }
      },
      "source": [
        "np.random.seed(0)\n",
        "dev.shots = 10**6\n",
        "circuit([np.pi/2, np.pi])"
      ],
      "execution_count": 85,
      "outputs": [
        {
          "output_type": "execute_result",
          "data": {
            "text/plain": [
              "array([0.      , 0.499195, 0.500805, 0.      ])"
            ]
          },
          "metadata": {
            "tags": []
          },
          "execution_count": 85
        }
      ]
    },
    {
      "cell_type": "code",
      "metadata": {
        "id": "i03z5eMGqV2V",
        "outputId": "74817c2b-da3f-4199-9e85-351668cd3677",
        "colab": {
          "base_uri": "https://localhost:8080/",
          "height": 67
        }
      },
      "source": [
        "print(circuit.draw())"
      ],
      "execution_count": 89,
      "outputs": [
        {
          "output_type": "stream",
          "text": [
            " 0: ──RY(1.571)──╭C──╭┤ Probs \n",
            " 1: ──RY(3.142)──╰X──╰┤ Probs \n",
            "\n"
          ],
          "name": "stdout"
        }
      ]
    },
    {
      "cell_type": "markdown",
      "metadata": {
        "id": "ffUS0Fpkfu09"
      },
      "source": [
        "Our intuition is correct and with the parameters [pi, pi/2] we are very close (but not identical due to sampling and stochasticity) to 0.5 probability for the 01 and 10 states. \n",
        "\n",
        "Note the probabilities are given to 6 decimals due to dev.shots = 10**6. We use qml.probs instead of qml.sample to save on some data processing but show below how qm.probs is noisy and is given to accuracy given by the number of samples set by dev.shots."
      ]
    },
    {
      "cell_type": "code",
      "metadata": {
        "id": "mq_Qe8EwuOWv",
        "outputId": "61ae1d8e-a856-4409-f1c7-f6ca9320c3d7",
        "colab": {
          "base_uri": "https://localhost:8080/",
          "height": 151
        }
      },
      "source": [
        "for i in [1, 10, 100, 1000]:\n",
        "  dev.shots = i\n",
        "  for j in [0,2]:\n",
        "    np.random.seed(j)\n",
        "    print(\"For {} samples with seed {}, probs = {}\".format(i, j, circuit([np.pi/2, np.pi])))"
      ],
      "execution_count": 72,
      "outputs": [
        {
          "output_type": "stream",
          "text": [
            "For 1 samples with seed 0, probs = [0. 0. 1. 0.]\n",
            "For 1 samples with seed 2, probs = [0. 1. 0. 0.]\n",
            "For 10 samples with seed 0, probs = [0.  0.3 0.7 0. ]\n",
            "For 10 samples with seed 2, probs = [0.  0.8 0.2 0. ]\n",
            "For 100 samples with seed 0, probs = [0.   0.51 0.49 0.  ]\n",
            "For 100 samples with seed 2, probs = [0.   0.56 0.44 0.  ]\n",
            "For 1000 samples with seed 0, probs = [0.    0.517 0.483 0.   ]\n",
            "For 1000 samples with seed 2, probs = [0.    0.534 0.466 0.   ]\n"
          ],
          "name": "stdout"
        }
      ]
    },
    {
      "cell_type": "markdown",
      "metadata": {
        "id": "C4rThKLdiPFZ"
      },
      "source": [
        "Next we define our cost function for learning by setting the desired probability array [0, 0.5, 0.5, 0] as our target and use squre loss."
      ]
    },
    {
      "cell_type": "code",
      "metadata": {
        "id": "t8hCVW7zvBmY"
      },
      "source": [
        "def cost(x):\n",
        "\n",
        "  return sum((np.array([0, 0.5, 0.5, 0]) - np.array(circuit(x)))**2)"
      ],
      "execution_count": 73,
      "outputs": []
    },
    {
      "cell_type": "markdown",
      "metadata": {
        "id": "VVAzvXAqN4MD"
      },
      "source": [
        "Before attempting to find the parameters with only one sample per iteration we can use some intution to consider why this will not work well. After each measurement, the cost is bounded below by 0.5. We use a very small number of steps and check the cost at each step to test our intuition. Our optimizer is gradient descent."
      ]
    },
    {
      "cell_type": "code",
      "metadata": {
        "id": "wjisX5WVa3W4",
        "outputId": "15841cc5-6b7f-43fc-a0e6-16a8d2b11923",
        "colab": {
          "base_uri": "https://localhost:8080/",
          "height": 370
        }
      },
      "source": [
        "# initialise the optimizer with stepsize\n",
        "opt = qml.GradientDescentOptimizer(1)\n",
        "\n",
        "# set the number of samples\n",
        "dev.shots = 1\n",
        "\n",
        "# set the number of steps\n",
        "steps = 10\n",
        "\n",
        "# set seed for reproducibility \n",
        "np.random.seed(0)\n",
        "\n",
        "# initialize the parameter to [0,0]\n",
        "init_params = np.array([0,0])\n",
        "params = init_params\n",
        "\n",
        "for i in range(steps):\n",
        "# update the circuit parameters after each step relative to cost & params\n",
        "  params = opt.step(cost, params)\n",
        "  print(\"Cost after step {:5d}: {: .7f}\".format(i + 1, cost(params)))\n",
        "  print(\"Current rotation angles: {}\".format(params))\n",
        "print(\"Optimized rotation angles: {}\".format(params))"
      ],
      "execution_count": 11,
      "outputs": [
        {
          "output_type": "stream",
          "text": [
            "Cost after step     1:  0.5000000\n",
            "Current rotation angles: [0.  1.5]\n",
            "Cost after step     2:  0.5000000\n",
            "Current rotation angles: [0. 3.]\n",
            "Cost after step     3:  0.5000000\n",
            "Current rotation angles: [1. 3.]\n",
            "Cost after step     4:  0.5000000\n",
            "Current rotation angles: [1. 2.]\n",
            "Cost after step     5:  0.5000000\n",
            "Current rotation angles: [2.5 3.5]\n",
            "Cost after step     6:  0.5000000\n",
            "Current rotation angles: [1.5 3.5]\n",
            "Cost after step     7:  0.5000000\n",
            "Current rotation angles: [0.5 2.5]\n",
            "Cost after step     8:  1.5000000\n",
            "Current rotation angles: [0.5 2. ]\n",
            "Cost after step     9:  1.5000000\n",
            "Current rotation angles: [1.5 1.5]\n",
            "Cost after step    10:  0.5000000\n",
            "Current rotation angles: [1.5 3. ]\n",
            "Optimized rotation angles: [1.5 3. ]\n"
          ],
          "name": "stdout"
        }
      ]
    },
    {
      "cell_type": "markdown",
      "metadata": {
        "id": "5OxO58f1nhbj"
      },
      "source": [
        "The cost can either be 0.5 or 1.5 depending on whether the measurement is one of [01, 10] or not respectively.\n",
        "\n",
        "Amusingly after 1"
      ]
    },
    {
      "cell_type": "code",
      "metadata": {
        "id": "sH2jxeNHrOnE",
        "outputId": "5769e489-7ce6-40ec-c891-a93451d259fe",
        "colab": {
          "base_uri": "https://localhost:8080/",
          "height": 1000
        }
      },
      "source": [
        "# initialise the optimizer with stepsize\n",
        "opt = qml.GradientDescentOptimizer(1)\n",
        "\n",
        "# set the number of samples\n",
        "dev.shots = 1\n",
        "\n",
        "# set the number of steps\n",
        "steps = 200\n",
        "\n",
        "# set seed for reproducibility \n",
        "np.random.seed(0)\n",
        "\n",
        "# initialize the parameter to [0,0]\n",
        "init_params = np.array([0,0])\n",
        "params = init_params\n",
        "\n",
        "# explicitly state stepsize to make use of update_stepsize method\n",
        "stepsize = 1\n",
        "\n",
        "for i in range(steps):\n",
        "# update the circuit parameters after each step relative to cost & params\n",
        "  params = opt.step(cost, params)\n",
        "  print(\"Cost after step {:5d}: {: .7f}\".format(i + 1, cost(params)))\n",
        "  print(\"Current rotation angles: {}\".format(params))\n",
        "  if (i + 1) % 10 == 0:\n",
        "      opt.update_stepsize(stepsize/2)\n",
        "print(\"Optimized rotation angles: {}\".format(params))"
      ],
      "execution_count": 83,
      "outputs": [
        {
          "output_type": "stream",
          "text": [
            "Cost after step     1:  0.5000000\n",
            "Current rotation angles: [0.  1.5]\n",
            "Cost after step     2:  0.5000000\n",
            "Current rotation angles: [0. 3.]\n",
            "Cost after step     3:  0.5000000\n",
            "Current rotation angles: [1. 3.]\n",
            "Cost after step     4:  0.5000000\n",
            "Current rotation angles: [1. 2.]\n",
            "Cost after step     5:  0.5000000\n",
            "Current rotation angles: [2.5 3.5]\n",
            "Cost after step     6:  0.5000000\n",
            "Current rotation angles: [1.5 3.5]\n",
            "Cost after step     7:  0.5000000\n",
            "Current rotation angles: [0.5 2.5]\n",
            "Cost after step     8:  1.5000000\n",
            "Current rotation angles: [0.5 2. ]\n",
            "Cost after step     9:  1.5000000\n",
            "Current rotation angles: [1.5 1.5]\n",
            "Cost after step    10:  0.5000000\n",
            "Current rotation angles: [1.5 3. ]\n",
            "Cost after step    11:  0.5000000\n",
            "Current rotation angles: [2. 3.]\n",
            "Cost after step    12:  0.5000000\n",
            "Current rotation angles: [1.5 3. ]\n",
            "Cost after step    13:  0.5000000\n",
            "Current rotation angles: [1. 3.]\n",
            "Cost after step    14:  0.5000000\n",
            "Current rotation angles: [1.5  2.75]\n",
            "Cost after step    15:  0.5000000\n",
            "Current rotation angles: [1. 3.]\n",
            "Cost after step    16:  0.5000000\n",
            "Current rotation angles: [1.5  2.75]\n",
            "Cost after step    17:  0.5000000\n",
            "Current rotation angles: [1. 3.]\n",
            "Cost after step    18:  0.5000000\n",
            "Current rotation angles: [1.5 3. ]\n",
            "Cost after step    19:  0.5000000\n",
            "Current rotation angles: [2.   2.75]\n",
            "Cost after step    20:  0.5000000\n",
            "Current rotation angles: [1.5 2.5]\n",
            "Cost after step    21:  0.5000000\n",
            "Current rotation angles: [1.   2.25]\n",
            "Cost after step    22:  0.5000000\n",
            "Current rotation angles: [1. 3.]\n",
            "Cost after step    23:  0.5000000\n",
            "Current rotation angles: [1.5 3. ]\n",
            "Cost after step    24:  0.5000000\n",
            "Current rotation angles: [1. 3.]\n",
            "Cost after step    25:  1.5000000\n",
            "Current rotation angles: [0.5  2.75]\n",
            "Cost after step    26:  0.5000000\n",
            "Current rotation angles: [1.  2.5]\n",
            "Cost after step    27:  0.5000000\n",
            "Current rotation angles: [0.5  2.25]\n",
            "Cost after step    28:  0.5000000\n",
            "Current rotation angles: [0.5 2. ]\n",
            "Cost after step    29:  1.5000000\n",
            "Current rotation angles: [0.5  1.75]\n",
            "Cost after step    30:  1.5000000\n",
            "Current rotation angles: [0.5 1.5]\n",
            "Cost after step    31:  0.5000000\n",
            "Current rotation angles: [0.25 2.25]\n",
            "Cost after step    32:  1.5000000\n",
            "Current rotation angles: [0.25 2.  ]\n",
            "Cost after step    33:  0.5000000\n",
            "Current rotation angles: [0.   2.75]\n",
            "Cost after step    34:  0.5000000\n",
            "Current rotation angles: [0.  2.5]\n",
            "Cost after step    35:  0.5000000\n",
            "Current rotation angles: [0.   3.25]\n",
            "Cost after step    36:  0.5000000\n",
            "Current rotation angles: [-0.5   3.25]\n",
            "Cost after step    37:  0.5000000\n",
            "Current rotation angles: [-1.    3.25]\n",
            "Cost after step    38:  0.5000000\n",
            "Current rotation angles: [-1.5  3.5]\n",
            "Cost after step    39:  0.5000000\n",
            "Current rotation angles: [-1.    3.25]\n",
            "Cost after step    40:  0.5000000\n",
            "Current rotation angles: [-1.5  3. ]\n",
            "Cost after step    41:  0.5000000\n",
            "Current rotation angles: [-1.    3.25]\n",
            "Cost after step    42:  0.5000000\n",
            "Current rotation angles: [-1.5   3.25]\n",
            "Cost after step    43:  0.5000000\n",
            "Current rotation angles: [-1.   3.5]\n",
            "Cost after step    44:  0.5000000\n",
            "Current rotation angles: [-0.5  3.5]\n",
            "Cost after step    45:  0.5000000\n",
            "Current rotation angles: [-0.5  3.5]\n",
            "Cost after step    46:  0.5000000\n",
            "Current rotation angles: [-0.5  3.5]\n",
            "Cost after step    47:  0.5000000\n",
            "Current rotation angles: [-0.5   3.75]\n",
            "Cost after step    48:  0.5000000\n",
            "Current rotation angles: [-0.75  3.5 ]\n",
            "Cost after step    49:  0.5000000\n",
            "Current rotation angles: [-1.25  3.75]\n",
            "Cost after step    50:  1.5000000\n",
            "Current rotation angles: [-1.75  3.75]\n",
            "Cost after step    51:  0.5000000\n",
            "Current rotation angles: [-1.25  3.5 ]\n",
            "Cost after step    52:  0.5000000\n",
            "Current rotation angles: [-1.75  3.25]\n",
            "Cost after step    53:  0.5000000\n",
            "Current rotation angles: [-2.25  2.75]\n",
            "Cost after step    54:  0.5000000\n",
            "Current rotation angles: [-1.75  3.  ]\n",
            "Cost after step    55:  0.5000000\n",
            "Current rotation angles: [-2.25  3.5 ]\n",
            "Cost after step    56:  0.5000000\n",
            "Current rotation angles: [-2.25  3.5 ]\n",
            "Cost after step    57:  0.5000000\n",
            "Current rotation angles: [-1.75  3.5 ]\n",
            "Cost after step    58:  0.5000000\n",
            "Current rotation angles: [-1.25  3.75]\n",
            "Cost after step    59:  0.5000000\n",
            "Current rotation angles: [-1.75  4.  ]\n",
            "Cost after step    60:  0.5000000\n",
            "Current rotation angles: [-1.25  3.75]\n",
            "Cost after step    61:  0.5000000\n",
            "Current rotation angles: [-1.75  3.5 ]\n",
            "Cost after step    62:  0.5000000\n",
            "Current rotation angles: [-1.25  3.75]\n",
            "Cost after step    63:  0.5000000\n",
            "Current rotation angles: [-0.75  4.  ]\n",
            "Cost after step    64:  0.5000000\n",
            "Current rotation angles: [-1.    3.75]\n",
            "Cost after step    65:  0.5000000\n",
            "Current rotation angles: [-0.5  3.5]\n",
            "Cost after step    66:  0.5000000\n",
            "Current rotation angles: [-0.5   3.25]\n",
            "Cost after step    67:  0.5000000\n",
            "Current rotation angles: [-0.5   3.25]\n",
            "Cost after step    68:  0.5000000\n",
            "Current rotation angles: [-0.5   3.25]\n",
            "Cost after step    69:  0.5000000\n",
            "Current rotation angles: [-0.5   3.25]\n",
            "Cost after step    70:  0.5000000\n",
            "Current rotation angles: [-0.5   3.25]\n",
            "Cost after step    71:  0.5000000\n",
            "Current rotation angles: [-0.5  3. ]\n",
            "Cost after step    72:  0.5000000\n",
            "Current rotation angles: [0. 3.]\n",
            "Cost after step    73:  0.5000000\n",
            "Current rotation angles: [0. 3.]\n",
            "Cost after step    74:  0.5000000\n",
            "Current rotation angles: [0. 3.]\n",
            "Cost after step    75:  0.5000000\n",
            "Current rotation angles: [-0.5  3. ]\n",
            "Cost after step    76:  0.5000000\n",
            "Current rotation angles: [0.   2.75]\n",
            "Cost after step    77:  0.5000000\n",
            "Current rotation angles: [-0.5  2.5]\n",
            "Cost after step    78:  0.5000000\n",
            "Current rotation angles: [0.  2.5]\n",
            "Cost after step    79:  0.5000000\n",
            "Current rotation angles: [-0.5   2.25]\n",
            "Cost after step    80:  0.5000000\n",
            "Current rotation angles: [-0.5  2. ]\n",
            "Cost after step    81:  0.5000000\n",
            "Current rotation angles: [-0.5   2.75]\n",
            "Cost after step    82:  0.5000000\n",
            "Current rotation angles: [-0.5  2.5]\n",
            "Cost after step    83:  0.5000000\n",
            "Current rotation angles: [-1.    2.25]\n",
            "Cost after step    84:  0.5000000\n",
            "Current rotation angles: [-1.5  2. ]\n",
            "Cost after step    85:  0.5000000\n",
            "Current rotation angles: [-1.75  1.75]\n",
            "Cost after step    86:  0.5000000\n",
            "Current rotation angles: [-2.25  2.  ]\n",
            "Cost after step    87:  0.5000000\n",
            "Current rotation angles: [-1.75  1.75]\n",
            "Cost after step    88:  1.5000000\n",
            "Current rotation angles: [-1.75  2.  ]\n",
            "Cost after step    89:  0.5000000\n",
            "Current rotation angles: [-1.75  2.25]\n",
            "Cost after step    90:  1.5000000\n",
            "Current rotation angles: [-2.   2.5]\n",
            "Cost after step    91:  0.5000000\n",
            "Current rotation angles: [-2.    2.75]\n",
            "Cost after step    92:  0.5000000\n",
            "Current rotation angles: [-1.5  2.5]\n",
            "Cost after step    93:  0.5000000\n",
            "Current rotation angles: [-2.   2.5]\n",
            "Cost after step    94:  0.5000000\n",
            "Current rotation angles: [-1.5   2.75]\n",
            "Cost after step    95:  0.5000000\n",
            "Current rotation angles: [-2.    2.75]\n",
            "Cost after step    96:  0.5000000\n",
            "Current rotation angles: [-1.75  2.5 ]\n",
            "Cost after step    97:  0.5000000\n",
            "Current rotation angles: [-2.25  2.5 ]\n",
            "Cost after step    98:  0.5000000\n",
            "Current rotation angles: [-2.    2.25]\n",
            "Cost after step    99:  0.5000000\n",
            "Current rotation angles: [-2.5  2.5]\n",
            "Cost after step   100:  1.5000000\n",
            "Current rotation angles: [-2.25  2.25]\n",
            "Cost after step   101:  0.5000000\n",
            "Current rotation angles: [-2.75  2.  ]\n",
            "Cost after step   102:  0.5000000\n",
            "Current rotation angles: [-2.25  1.75]\n",
            "Cost after step   103:  0.5000000\n",
            "Current rotation angles: [-2.5  2.5]\n",
            "Cost after step   104:  0.5000000\n",
            "Current rotation angles: [-2.25  2.25]\n",
            "Cost after step   105:  0.5000000\n",
            "Current rotation angles: [-2.25  3.  ]\n",
            "Cost after step   106:  0.5000000\n",
            "Current rotation angles: [-2.75  3.25]\n",
            "Cost after step   107:  0.5000000\n",
            "Current rotation angles: [-2.25  3.25]\n",
            "Cost after step   108:  0.5000000\n",
            "Current rotation angles: [-1.75  3.5 ]\n",
            "Cost after step   109:  0.5000000\n",
            "Current rotation angles: [-1.25  3.  ]\n",
            "Cost after step   110:  0.5000000\n",
            "Current rotation angles: [-0.75  2.75]\n",
            "Cost after step   111:  0.5000000\n",
            "Current rotation angles: [-0.25  2.5 ]\n",
            "Cost after step   112:  0.5000000\n",
            "Current rotation angles: [-0.75  2.25]\n",
            "Cost after step   113:  0.5000000\n",
            "Current rotation angles: [-1.  2.]\n",
            "Cost after step   114:  0.5000000\n",
            "Current rotation angles: [-1.    2.75]\n",
            "Cost after step   115:  0.5000000\n",
            "Current rotation angles: [-1.5  2.5]\n",
            "Cost after step   116:  0.5000000\n",
            "Current rotation angles: [-1.25  2.5 ]\n",
            "Cost after step   117:  0.5000000\n",
            "Current rotation angles: [-1.5   2.75]\n",
            "Cost after step   118:  0.5000000\n",
            "Current rotation angles: [-2.    2.75]\n",
            "Cost after step   119:  0.5000000\n",
            "Current rotation angles: [-2.5  3. ]\n",
            "Cost after step   120:  0.5000000\n",
            "Current rotation angles: [-2.  3.]\n",
            "Cost after step   121:  0.5000000\n",
            "Current rotation angles: [-2.    3.25]\n",
            "Cost after step   122:  0.5000000\n",
            "Current rotation angles: [-2.    3.25]\n",
            "Cost after step   123:  0.5000000\n",
            "Current rotation angles: [-1.5  3. ]\n",
            "Cost after step   124:  0.5000000\n",
            "Current rotation angles: [-2.  3.]\n",
            "Cost after step   125:  0.5000000\n",
            "Current rotation angles: [-1.5  3. ]\n",
            "Cost after step   126:  0.5000000\n",
            "Current rotation angles: [-2.    2.75]\n",
            "Cost after step   127:  0.5000000\n",
            "Current rotation angles: [-1.75  2.5 ]\n",
            "Cost after step   128:  0.5000000\n",
            "Current rotation angles: [-1.25  2.5 ]\n",
            "Cost after step   129:  0.5000000\n",
            "Current rotation angles: [-1.25  2.75]\n",
            "Cost after step   130:  0.5000000\n",
            "Current rotation angles: [-0.75  3.  ]\n",
            "Cost after step   131:  0.5000000\n",
            "Current rotation angles: [-1.25  2.75]\n",
            "Cost after step   132:  0.5000000\n",
            "Current rotation angles: [-1.75  3.  ]\n",
            "Cost after step   133:  0.5000000\n",
            "Current rotation angles: [-1.25  2.75]\n",
            "Cost after step   134:  0.5000000\n",
            "Current rotation angles: [-1.75  2.5 ]\n",
            "Cost after step   135:  0.5000000\n",
            "Current rotation angles: [-1.5   2.75]\n",
            "Cost after step   136:  0.5000000\n",
            "Current rotation angles: [-2.    2.75]\n",
            "Cost after step   137:  1.5000000\n",
            "Current rotation angles: [-2.5   2.75]\n",
            "Cost after step   138:  0.5000000\n",
            "Current rotation angles: [-2.  3.]\n",
            "Cost after step   139:  0.5000000\n",
            "Current rotation angles: [-1.5  3. ]\n",
            "Cost after step   140:  0.5000000\n",
            "Current rotation angles: [-1.  3.]\n",
            "Cost after step   141:  0.5000000\n",
            "Current rotation angles: [-1.5  3.5]\n",
            "Cost after step   142:  0.5000000\n",
            "Current rotation angles: [-1.    3.75]\n",
            "Cost after step   143:  0.5000000\n",
            "Current rotation angles: [-0.75  3.75]\n",
            "Cost after step   144:  0.5000000\n",
            "Current rotation angles: [-1.  4.]\n",
            "Cost after step   145:  0.5000000\n",
            "Current rotation angles: [-1.    3.75]\n",
            "Cost after step   146:  0.5000000\n",
            "Current rotation angles: [-0.5  3.5]\n",
            "Cost after step   147:  0.5000000\n",
            "Current rotation angles: [-1.   3.5]\n",
            "Cost after step   148:  0.5000000\n",
            "Current rotation angles: [-1.5   3.25]\n",
            "Cost after step   149:  0.5000000\n",
            "Current rotation angles: [-2.    3.25]\n",
            "Cost after step   150:  0.5000000\n",
            "Current rotation angles: [-1.5  3.5]\n",
            "Cost after step   151:  0.5000000\n",
            "Current rotation angles: [-1.   3.5]\n",
            "Cost after step   152:  0.5000000\n",
            "Current rotation angles: [-1.5   3.25]\n",
            "Cost after step   153:  0.5000000\n",
            "Current rotation angles: [-1.    2.75]\n",
            "Cost after step   154:  0.5000000\n",
            "Current rotation angles: [-1.5  2.5]\n",
            "Cost after step   155:  0.5000000\n",
            "Current rotation angles: [-1.   2.5]\n",
            "Cost after step   156:  0.5000000\n",
            "Current rotation angles: [-0.75  2.5 ]\n",
            "Cost after step   157:  0.5000000\n",
            "Current rotation angles: [-1.25  2.25]\n",
            "Cost after step   158:  0.5000000\n",
            "Current rotation angles: [-1.25  2.5 ]\n",
            "Cost after step   159:  0.5000000\n",
            "Current rotation angles: [-0.75  2.5 ]\n",
            "Cost after step   160:  0.5000000\n",
            "Current rotation angles: [-1.25  2.5 ]\n",
            "Cost after step   161:  0.5000000\n",
            "Current rotation angles: [-1.75  2.25]\n",
            "Cost after step   162:  1.5000000\n",
            "Current rotation angles: [-1.25  2.  ]\n",
            "Cost after step   163:  0.5000000\n",
            "Current rotation angles: [-0.5   2.25]\n",
            "Cost after step   164:  0.5000000\n",
            "Current rotation angles: [-0.75  2.  ]\n",
            "Cost after step   165:  0.5000000\n",
            "Current rotation angles: [-0.5   2.25]\n",
            "Cost after step   166:  0.5000000\n",
            "Current rotation angles: [-0.5  3. ]\n",
            "Cost after step   167:  0.5000000\n",
            "Current rotation angles: [0. 3.]\n",
            "Cost after step   168:  1.5000000\n",
            "Current rotation angles: [0.5  2.75]\n",
            "Cost after step   169:  0.5000000\n",
            "Current rotation angles: [1.   2.75]\n",
            "Cost after step   170:  0.5000000\n",
            "Current rotation angles: [1.   2.75]\n",
            "Cost after step   171:  0.5000000\n",
            "Current rotation angles: [1.5 2.5]\n",
            "Cost after step   172:  0.5000000\n",
            "Current rotation angles: [2.  2.5]\n",
            "Cost after step   173:  0.5000000\n",
            "Current rotation angles: [1.25 2.5 ]\n",
            "Cost after step   174:  0.5000000\n",
            "Current rotation angles: [1.75 2.5 ]\n",
            "Cost after step   175:  1.5000000\n",
            "Current rotation angles: [1.75 2.5 ]\n",
            "Cost after step   176:  0.5000000\n",
            "Current rotation angles: [2.25 2.25]\n",
            "Cost after step   177:  0.5000000\n",
            "Current rotation angles: [1.75 2.  ]\n",
            "Cost after step   178:  0.5000000\n",
            "Current rotation angles: [1.75 2.75]\n",
            "Cost after step   179:  0.5000000\n",
            "Current rotation angles: [1.5  2.75]\n",
            "Cost after step   180:  0.5000000\n",
            "Current rotation angles: [1. 3.]\n",
            "Cost after step   181:  0.5000000\n",
            "Current rotation angles: [1.5  2.75]\n",
            "Cost after step   182:  0.5000000\n",
            "Current rotation angles: [2.  2.5]\n",
            "Cost after step   183:  1.5000000\n",
            "Current rotation angles: [1.5  2.25]\n",
            "Cost after step   184:  0.5000000\n",
            "Current rotation angles: [1. 2.]\n",
            "Cost after step   185:  0.5000000\n",
            "Current rotation angles: [0.25 2.25]\n",
            "Cost after step   186:  0.5000000\n",
            "Current rotation angles: [0.75 2.  ]\n",
            "Cost after step   187:  0.5000000\n",
            "Current rotation angles: [0.5  1.75]\n",
            "Cost after step   188:  0.5000000\n",
            "Current rotation angles: [0.5 1.5]\n",
            "Cost after step   189:  0.5000000\n",
            "Current rotation angles: [1.25 1.75]\n",
            "Cost after step   190:  0.5000000\n",
            "Current rotation angles: [1.75 2.  ]\n",
            "Cost after step   191:  0.5000000\n",
            "Current rotation angles: [2.5  2.75]\n",
            "Cost after step   192:  0.5000000\n",
            "Current rotation angles: [2.  2.5]\n",
            "Cost after step   193:  0.5000000\n",
            "Current rotation angles: [2.5  2.25]\n",
            "Cost after step   194:  1.5000000\n",
            "Current rotation angles: [2. 2.]\n",
            "Cost after step   195:  1.5000000\n",
            "Current rotation angles: [2.   2.25]\n",
            "Cost after step   196:  0.5000000\n",
            "Current rotation angles: [1.5 2. ]\n",
            "Cost after step   197:  1.5000000\n",
            "Current rotation angles: [2.   1.75]\n",
            "Cost after step   198:  0.5000000\n",
            "Current rotation angles: [1.75 1.5 ]\n",
            "Cost after step   199:  0.5000000\n",
            "Current rotation angles: [1.   1.75]\n",
            "Cost after step   200:  0.5000000\n",
            "Current rotation angles: [1.5 1.5]\n",
            "Optimized rotation angles: [1.5 1.5]\n"
          ],
          "name": "stdout"
        }
      ]
    },
    {
      "cell_type": "markdown",
      "metadata": {
        "id": "HbkQp51qrRL_"
      },
      "source": [
        "Next lets try 10 samples"
      ]
    },
    {
      "cell_type": "code",
      "metadata": {
        "id": "-jABMpHGNB8M",
        "outputId": "d88e4208-0c49-4ab0-883d-a855d23ffad6",
        "colab": {
          "base_uri": "https://localhost:8080/",
          "height": 370
        }
      },
      "source": [
        "# initialise the optimizer with stepsize\n",
        "opt = qml.GradientDescentOptimizer(stepsize=1)\n",
        "\n",
        "\n",
        "dev.shots = 10\n",
        "# set the number of steps\n",
        "steps = 1000\n",
        "\n",
        "np.random.seed(0)\n",
        "init_params = np.array([0,0])\n",
        "params = init_params\n",
        "stepsize = 1\n",
        "\n",
        "for i in range(steps):\n",
        "# update the circuit parameters after each step relative to cost & params\n",
        "  params = opt.step(cost, params)\n",
        "  if (i + 1) % 100 == 0:\n",
        "    print(\"Cost after step {:5d}: {: .7f}\".format(i + 1, cost(params)))\n",
        "    print(\"Current rotation angles: {}\".format(params))\n",
        "    if (i + 1) % 200 == 0:\n",
        "      opt.update_stepsize(stepsize/10)\n",
        "print(\"Optimized rotation angles: {}\".format(params))"
      ],
      "execution_count": 13,
      "outputs": [
        {
          "output_type": "stream",
          "text": [
            "Cost after step   100:  0.3200000\n",
            "Current rotation angles: [1.71 3.17]\n",
            "Cost after step   200:  0.0800000\n",
            "Current rotation angles: [1.79 3.41]\n",
            "Cost after step   300:  0.0200000\n",
            "Current rotation angles: [1.546 3.293]\n",
            "Cost after step   400:  0.0800000\n",
            "Current rotation angles: [1.557 3.253]\n",
            "Cost after step   500:  0.0800000\n",
            "Current rotation angles: [1.541 3.19 ]\n",
            "Cost after step   600:  0.0800000\n",
            "Current rotation angles: [1.541 3.275]\n",
            "Cost after step   700:  0.0000000\n",
            "Current rotation angles: [1.627 3.294]\n",
            "Cost after step   800:  0.0200000\n",
            "Current rotation angles: [1.593 3.274]\n",
            "Cost after step   900:  0.0200000\n",
            "Current rotation angles: [1.531 3.205]\n",
            "Cost after step  1000:  0.0200000\n",
            "Current rotation angles: [1.451 3.244]\n",
            "Optimized rotation angles: [1.451 3.244]\n"
          ],
          "name": "stdout"
        }
      ]
    },
    {
      "cell_type": "markdown",
      "metadata": {
        "id": "mFL_BeqGsCdA"
      },
      "source": [
        "L"
      ]
    },
    {
      "cell_type": "code",
      "metadata": {
        "id": "03I2vOubsBuD"
      },
      "source": [
        "dev.shots = 10**6\n",
        "np.random.seed(0)\n",
        "circuit(\n",
        "    \n",
        "\n"
      ],
      "execution_count": null,
      "outputs": []
    },
    {
      "cell_type": "markdown",
      "metadata": {
        "id": "YMNHsCpOsiRW"
      },
      "source": [
        "We instantiate a second device for theoretical results with the given parameters (by not setting the analytic argument to False)."
      ]
    },
    {
      "cell_type": "code",
      "metadata": {
        "id": "2UyykXbZsSY2"
      },
      "source": [
        "dev2 = qml.device(\"default.qubit\", wires=2)\n",
        "\n",
        "@qml.qnode(dev2)\n",
        "def circuit2(params):\n",
        "  qml.RY(params[0], wires=0)\n",
        "  qml.RY(params[1], wires=1)\n",
        "  qml.CNOT(wires=[0,1])\n",
        "  return qml.probs(wires=[0,1])"
      ],
      "execution_count": 90,
      "outputs": []
    },
    {
      "cell_type": "code",
      "metadata": {
        "id": "GjdaeCoIzuVN"
      },
      "source": [
        "circuit2()"
      ],
      "execution_count": null,
      "outputs": []
    },
    {
      "cell_type": "code",
      "metadata": {
        "id": "kX73nMJExxEq",
        "outputId": "ea499355-8b4b-4c3f-8070-4e975bac33cd",
        "colab": {
          "base_uri": "https://localhost:8080/",
          "height": 1000
        }
      },
      "source": [
        "# initialise the optimizer with stepsize\n",
        "opt = qml.GradientDescentOptimizer(stepsize=1)\n",
        "\n",
        "\n",
        "dev.shots = 1000\n",
        "# set the number of steps\n",
        "steps = 100000\n",
        "\n",
        "np.random.seed(0)\n",
        "init_params = np.array([0,0])\n",
        "params = init_params\n",
        "stepsize = 1\n",
        "\n",
        "for i in range(steps):\n",
        "# update the circuit parameters after each step relative to cost & params\n",
        "  params = opt.step(cost, params)\n",
        "  if (i + 1) % 2000 == 0:\n",
        "    print(\"Cost after step {:5d}: {: .7f}\".format(i + 1, cost(params)))\n",
        "    print(\"Current rotation angles: {}\".format(params))\n",
        "    if (i + 1) % 10000 == 0:\n",
        "      opt.update_stepsize(stepsize/5)\n",
        "print(\"Optimized rotation angles: {}\".format(params))"
      ],
      "execution_count": null,
      "outputs": [
        {
          "output_type": "stream",
          "text": [
            "Cost after step  2000:  0.0032000\n",
            "Current rotation angles: [ 1.604317 -3.11702 ]\n",
            "Cost after step  4000:  0.0008820\n",
            "Current rotation angles: [ 1.60304  -3.124372]\n",
            "Cost after step  6000:  0.0015680\n",
            "Current rotation angles: [ 1.592761 -3.077045]\n",
            "Cost after step  8000:  0.0001460\n",
            "Current rotation angles: [ 1.550887 -3.064223]\n",
            "Cost after step 10000:  0.0015680\n",
            "Current rotation angles: [ 1.605596 -3.098199]\n",
            "Cost after step 12000:  0.0005180\n",
            "Current rotation angles: [ 1.5562    -3.1109554]\n",
            "Cost after step 14000:  0.0003140\n",
            "Current rotation angles: [ 1.584589  -3.1178584]\n",
            "Cost after step 16000:  0.0002420\n",
            "Current rotation angles: [ 1.5800056 -3.1130704]\n",
            "Cost after step 18000:  0.0000320\n",
            "Current rotation angles: [ 1.5619176 -3.1127482]\n",
            "Cost after step 20000:  0.0000320\n",
            "Current rotation angles: [ 1.5690864 -3.1085846]\n",
            "Cost after step 22000:  0.0000080\n",
            "Current rotation angles: [ 1.5521638 -3.1056304]\n",
            "Cost after step 24000:  0.0005780\n",
            "Current rotation angles: [ 1.5603794 -3.1095122]\n",
            "Cost after step 26000:  0.0000180\n",
            "Current rotation angles: [ 1.5594166 -3.1151076]\n",
            "Cost after step 28000:  0.0000980\n",
            "Current rotation angles: [ 1.5885194 -3.1135428]\n",
            "Cost after step 30000:  0.0000980\n",
            "Current rotation angles: [ 1.5673324 -3.1108892]\n",
            "Cost after step 32000:  0.0014060\n",
            "Current rotation angles: [ 1.5960098 -3.110202 ]\n",
            "Cost after step 34000:  0.0000980\n",
            "Current rotation angles: [ 1.5733662 -3.1236032]\n",
            "Cost after step 36000:  0.0011520\n",
            "Current rotation angles: [ 1.5765634 -3.1239428]\n",
            "Cost after step 38000:  0.0000980\n",
            "Current rotation angles: [ 1.5823654 -3.1290994]\n",
            "Cost after step 40000:  0.0000500\n",
            "Current rotation angles: [ 1.577684  -3.1340894]\n",
            "Cost after step 42000:  0.0002000\n",
            "Current rotation angles: [ 1.581375 -3.135423]\n",
            "Cost after step 44000:  0.0001280\n",
            "Current rotation angles: [ 1.5793288 -3.1368146]\n",
            "Cost after step 46000:  0.0000080\n",
            "Current rotation angles: [ 1.5876288 -3.1394022]\n",
            "Cost after step 48000:  0.0004220\n",
            "Current rotation angles: [ 1.557555  -3.1241828]\n",
            "Cost after step 50000:  0.0001280\n",
            "Current rotation angles: [ 1.5568742 -3.126312 ]\n",
            "Cost after step 52000:  0.0016820\n",
            "Current rotation angles: [ 1.565556 -3.123062]\n",
            "Cost after step 54000:  0.0008000\n",
            "Current rotation angles: [ 1.5710784 -3.1263146]\n",
            "Cost after step 56000:  0.0000020\n",
            "Current rotation angles: [ 1.5860826 -3.1348314]\n",
            "Cost after step 58000:  0.0001620\n",
            "Current rotation angles: [ 1.5724366 -3.1310622]\n",
            "Cost after step 60000:  0.0003920\n",
            "Current rotation angles: [ 1.565721  -3.1323162]\n",
            "Cost after step 62000:  0.0014580\n",
            "Current rotation angles: [ 1.5888708 -3.136633 ]\n",
            "Cost after step 64000:  0.0004500\n",
            "Current rotation angles: [ 1.572016 -3.135163]\n",
            "Cost after step 66000:  0.0000320\n",
            "Current rotation angles: [ 1.5735754 -3.1272562]\n",
            "Cost after step 68000:  0.0011520\n",
            "Current rotation angles: [ 1.5839834 -3.1309796]\n",
            "Cost after step 70000:  0.0000080\n",
            "Current rotation angles: [ 1.5600572 -3.1341602]\n",
            "Cost after step 72000:  0.0000980\n",
            "Current rotation angles: [ 1.567604 -3.141839]\n",
            "Cost after step 74000:  0.0008820\n",
            "Current rotation angles: [ 1.5636024 -3.14964  ]\n",
            "Cost after step 76000:  0.0000080\n",
            "Current rotation angles: [ 1.5664698 -3.1627644]\n",
            "Cost after step 78000:  0.0023120\n",
            "Current rotation angles: [ 1.5625828 -3.1525562]\n",
            "Cost after step 80000:  0.0007220\n",
            "Current rotation angles: [ 1.5886618 -3.1409812]\n",
            "Cost after step 82000:  0.0040500\n",
            "Current rotation angles: [ 1.5577664 -3.1449732]\n",
            "Cost after step 84000:  0.0000320\n",
            "Current rotation angles: [ 1.566522 -3.146262]\n",
            "Cost after step 86000:  0.0000020\n",
            "Current rotation angles: [ 1.5987974 -3.144798 ]\n",
            "Cost after step 88000:  0.0000020\n",
            "Current rotation angles: [ 1.5756852 -3.1507026]\n",
            "Cost after step 90000:  0.0001280\n",
            "Current rotation angles: [ 1.5760406 -3.1496034]\n",
            "Cost after step 92000:  0.0007220\n",
            "Current rotation angles: [ 1.557091 -3.143501]\n",
            "Cost after step 94000:  0.0005120\n",
            "Current rotation angles: [ 1.5870996 -3.1489162]\n",
            "Cost after step 96000:  0.0003380\n",
            "Current rotation angles: [ 1.5758798 -3.152167 ]\n",
            "Cost after step 98000:  0.0003660\n",
            "Current rotation angles: [ 1.5784734 -3.1526516]\n",
            "Cost after step 100000:  0.0000180\n",
            "Current rotation angles: [ 1.572678  -3.1466376]\n",
            "Optimized rotation angles: [ 1.572678  -3.1466376]\n"
          ],
          "name": "stdout"
        }
      ]
    },
    {
      "cell_type": "code",
      "metadata": {
        "id": "ihvqlxsJw0Nx",
        "outputId": "16a1a602-1f49-4527-d034-ad88763c147c",
        "colab": {
          "base_uri": "https://localhost:8080/",
          "height": 1000
        }
      },
      "source": [
        "# initialise the optimizer with stepsize\n",
        "opt = qml.GradientDescentOptimizer(stepsize=1)\n",
        "\n",
        "\n",
        "dev.shots = 1000\n",
        "# set the number of steps\n",
        "steps = 100000\n",
        "\n",
        "np.random.seed(1)\n",
        "init_params = np.array([0,0])\n",
        "params = init_params\n",
        "stepsize = 1\n",
        "\n",
        "for i in range(steps):\n",
        "# update the circuit parameters after each step relative to cost & params\n",
        "  params = opt.step(cost, params)\n",
        "  if (i + 1) % 2000 == 0:\n",
        "    print(\"Cost after step {:5d}: {: .7f}\".format(i + 1, cost(params)))\n",
        "    print(\"Current rotation angles: {}\".format(params))\n",
        "    if (i + 1) % 10000 == 0:\n",
        "      opt.update_stepsize(stepsize/5)\n",
        "print(\"Optimized rotation angles: {}\".format(params))"
      ],
      "execution_count": null,
      "outputs": [
        {
          "output_type": "stream",
          "text": [
            "Cost after step  2000:  0.0008820\n",
            "Current rotation angles: [1.540636 3.089585]\n",
            "Cost after step  4000:  0.0013020\n",
            "Current rotation angles: [1.50942  3.092861]\n",
            "Cost after step  6000:  0.0005120\n",
            "Current rotation angles: [1.598903 3.104701]\n",
            "Cost after step  8000:  0.0004500\n",
            "Current rotation angles: [1.552879 3.096904]\n",
            "Cost after step 10000:  0.0000320\n",
            "Current rotation angles: [1.605441 3.102533]\n",
            "Cost after step 12000:  0.0000720\n",
            "Current rotation angles: [1.5786776 3.1082132]\n",
            "Cost after step 14000:  0.0002000\n",
            "Current rotation angles: [1.561366  3.1161424]\n",
            "Cost after step 16000:  0.0000500\n",
            "Current rotation angles: [1.5846342 3.1156558]\n",
            "Cost after step 18000:  0.0000080\n",
            "Current rotation angles: [1.5610272 3.1204464]\n",
            "Cost after step 20000:  0.0002420\n",
            "Current rotation angles: [1.5448584 3.1183548]\n",
            "Cost after step 22000:  0.0000720\n",
            "Current rotation angles: [1.5589036 3.120155 ]\n",
            "Cost after step 24000:  0.0000500\n",
            "Current rotation angles: [1.5708318 3.1278104]\n",
            "Cost after step 26000:  0.0024500\n",
            "Current rotation angles: [1.5635254 3.1306546]\n",
            "Cost after step 28000:  0.0006480\n",
            "Current rotation angles: [1.5695444 3.1322794]\n",
            "Cost after step 30000:  0.0000020\n",
            "Current rotation angles: [1.578239  3.1301756]\n",
            "Cost after step 32000:  0.0003380\n",
            "Current rotation angles: [1.5670302 3.1318464]\n",
            "Cost after step 34000:  0.0000720\n",
            "Current rotation angles: [1.5909812 3.1364284]\n",
            "Cost after step 36000:  0.0000180\n",
            "Current rotation angles: [1.574691  3.1318654]\n",
            "Cost after step 38000:  0.0003380\n",
            "Current rotation angles: [1.5776736 3.1271052]\n",
            "Cost after step 40000:  0.0005120\n",
            "Current rotation angles: [1.5680744 3.1284096]\n",
            "Cost after step 42000:  0.0002880\n",
            "Current rotation angles: [1.5641738 3.129898 ]\n",
            "Cost after step 44000:  0.0005780\n",
            "Current rotation angles: [1.5620088 3.13557  ]\n",
            "Cost after step 46000:  0.0009680\n",
            "Current rotation angles: [1.5557192 3.127462 ]\n",
            "Cost after step 48000:  0.0016820\n",
            "Current rotation angles: [1.5548434 3.1274714]\n",
            "Cost after step 50000:  0.0005780\n",
            "Current rotation angles: [1.5584622 3.127173 ]\n",
            "Cost after step 52000:  0.0002000\n",
            "Current rotation angles: [1.5738462 3.130585 ]\n",
            "Cost after step 54000:  0.0000980\n",
            "Current rotation angles: [1.5629898 3.1346904]\n",
            "Cost after step 56000:  0.0002880\n",
            "Current rotation angles: [1.554305  3.1342242]\n",
            "Cost after step 58000:  0.0004500\n",
            "Current rotation angles: [1.5742014 3.1371576]\n",
            "Cost after step 60000:  0.0005120\n",
            "Current rotation angles: [1.5656148 3.1385166]\n",
            "Cost after step 62000:  0.0000980\n",
            "Current rotation angles: [1.57689   3.1346606]\n",
            "Cost after step 64000:  0.0003920\n",
            "Current rotation angles: [1.5624584 3.1364586]\n",
            "Cost after step 66000:  0.0000080\n",
            "Current rotation angles: [1.5578362 3.1351142]\n",
            "Cost after step 68000:  0.0002420\n",
            "Current rotation angles: [1.5640308 3.133454 ]\n",
            "Cost after step 70000:  0.0001620\n",
            "Current rotation angles: [1.580897  3.1257544]\n",
            "Cost after step 72000:  0.0009680\n",
            "Current rotation angles: [1.5545328 3.1156096]\n",
            "Cost after step 74000:  0.0000980\n",
            "Current rotation angles: [1.5781974 3.1138612]\n",
            "Cost after step 76000:  0.0000500\n",
            "Current rotation angles: [1.567478  3.1108282]\n",
            "Cost after step 78000:  0.0000060\n",
            "Current rotation angles: [1.5652844 3.1080382]\n",
            "Cost after step 80000:  0.0000180\n",
            "Current rotation angles: [1.582421  3.1065884]\n",
            "Cost after step 82000:  0.0004500\n",
            "Current rotation angles: [1.578415 3.106768]\n",
            "Cost after step 84000:  0.0000180\n",
            "Current rotation angles: [1.574528  3.1124304]\n",
            "Cost after step 86000:  0.0009680\n",
            "Current rotation angles: [1.565134  3.1195082]\n",
            "Cost after step 88000:  0.0000180\n",
            "Current rotation angles: [1.5756194 3.124749 ]\n",
            "Cost after step 90000:  0.0003920\n",
            "Current rotation angles: [1.5750532 3.1218212]\n",
            "Cost after step 92000:  0.0000500\n",
            "Current rotation angles: [1.576924  3.1183282]\n",
            "Cost after step 94000:  0.0002420\n",
            "Current rotation angles: [1.5732434 3.1184884]\n",
            "Cost after step 96000:  0.0001280\n",
            "Current rotation angles: [1.5888716 3.1193616]\n",
            "Cost after step 98000:  0.0007220\n",
            "Current rotation angles: [1.5583484 3.1291888]\n",
            "Cost after step 100000:  0.0007220\n",
            "Current rotation angles: [1.5816496 3.1318976]\n",
            "Optimized rotation angles: [1.5816496 3.1318976]\n"
          ],
          "name": "stdout"
        }
      ]
    },
    {
      "cell_type": "code",
      "metadata": {
        "id": "a47mdkL4dAjx",
        "outputId": "c4dc6779-25bd-4aff-ff6b-e4c65da074fa",
        "colab": {
          "base_uri": "https://localhost:8080/",
          "height": 1000
        }
      },
      "source": [
        "# initialise the optimizer with stepsize\n",
        "opt = qml.GradientDescentOptimizer(stepsize=1)\n",
        "\n",
        "\n",
        "dev.shots = 100\n",
        "# set the number of steps\n",
        "steps = 100000\n",
        "\n",
        "np.random.seed(0)\n",
        "init_params = np.array([0,0])\n",
        "params = init_params\n",
        "stepsize = 1\n",
        "\n",
        "for i in range(steps):\n",
        "# update the circuit parameters after each step relative to cost & params\n",
        "  params = opt.step(cost, params)\n",
        "  if (i + 1) % 2000 == 0:\n",
        "    print(\"Cost after step {:5d}: {: .7f}\".format(i + 1, cost(params)))\n",
        "    print(\"Current rotation angles: {}\".format(params))\n",
        "    if (i + 1) % 10000 == 0:\n",
        "      opt.update_stepsize(stepsize/10)\n",
        "print(\"Optimized rotation angles: {}\".format(params))"
      ],
      "execution_count": null,
      "outputs": [
        {
          "output_type": "stream",
          "text": [
            "Cost after step  2000:  0.0128000\n",
            "Current rotation angles: [1.5158 3.3335]\n",
            "Cost after step  4000:  0.0008000\n",
            "Current rotation angles: [1.576  3.1583]\n",
            "Cost after step  6000:  0.0002000\n",
            "Current rotation angles: [1.5508 3.2314]\n",
            "Cost after step  8000:  0.0200000\n",
            "Current rotation angles: [1.4751 3.2552]\n",
            "Cost after step 10000:  0.0050000\n",
            "Current rotation angles: [1.65   3.1294]\n",
            "Cost after step 12000:  0.0002000\n",
            "Current rotation angles: [1.56315 3.13952]\n",
            "Cost after step 14000:  0.0032000\n",
            "Current rotation angles: [1.56619 3.14623]\n",
            "Cost after step 16000:  0.0008000\n",
            "Current rotation angles: [1.53392 3.16601]\n",
            "Cost after step 18000:  0.0050000\n",
            "Current rotation angles: [1.56387 3.12983]\n",
            "Cost after step 20000:  0.0128000\n",
            "Current rotation angles: [1.57119 3.12066]\n",
            "Cost after step 22000:  0.0032000\n",
            "Current rotation angles: [1.5731  3.14696]\n",
            "Cost after step 24000:  0.0032000\n",
            "Current rotation angles: [1.52401 3.14683]\n",
            "Cost after step 26000:  0.0128000\n",
            "Current rotation angles: [1.55057 3.13083]\n",
            "Cost after step 28000:  0.0200000\n",
            "Current rotation angles: [1.54653 3.13263]\n",
            "Cost after step 30000:  0.0050000\n",
            "Current rotation angles: [1.56559 3.14551]\n",
            "Cost after step 32000:  0.0032000\n",
            "Current rotation angles: [1.56854 3.13876]\n",
            "Cost after step 34000:  0.0000000\n",
            "Current rotation angles: [1.58733 3.10942]\n",
            "Cost after step 36000:  0.0242000\n",
            "Current rotation angles: [1.5806 3.1107]\n",
            "Cost after step 38000:  0.0008000\n",
            "Current rotation angles: [1.56774 3.09012]\n",
            "Cost after step 40000:  0.0018000\n",
            "Current rotation angles: [1.62664 3.09009]\n",
            "Cost after step 42000:  0.0002000\n",
            "Current rotation angles: [1.60408 3.10446]\n",
            "Cost after step 44000:  0.0042000\n",
            "Current rotation angles: [1.56326 3.09304]\n",
            "Cost after step 46000:  0.0200000\n",
            "Current rotation angles: [1.56386 3.1116 ]\n",
            "Cost after step 48000:  0.0000000\n",
            "Current rotation angles: [1.57107 3.16395]\n",
            "Cost after step 50000:  0.0050000\n",
            "Current rotation angles: [1.52449 3.15776]\n",
            "Cost after step 52000:  0.0032000\n",
            "Current rotation angles: [1.59196 3.13366]\n",
            "Cost after step 54000:  0.0162000\n",
            "Current rotation angles: [1.55536 3.13888]\n",
            "Cost after step 56000:  0.0018000\n",
            "Current rotation angles: [1.59274 3.1282 ]\n",
            "Cost after step 58000:  0.0242000\n",
            "Current rotation angles: [1.53299 3.11956]\n",
            "Cost after step 60000:  0.0008000\n",
            "Current rotation angles: [1.57269 3.08705]\n",
            "Cost after step 62000:  0.0200000\n",
            "Current rotation angles: [1.57532 3.0655 ]\n",
            "Cost after step 64000:  0.0072000\n",
            "Current rotation angles: [1.56344 3.09795]\n",
            "Cost after step 66000:  0.0008000\n",
            "Current rotation angles: [1.59315 3.1103 ]\n",
            "Cost after step 68000:  0.0128000\n",
            "Current rotation angles: [1.54558 3.12616]\n",
            "Cost after step 70000:  0.0008000\n",
            "Current rotation angles: [1.58171 3.11953]\n",
            "Cost after step 72000:  0.0002000\n",
            "Current rotation angles: [1.54197 3.12523]\n",
            "Cost after step 74000:  0.0002000\n",
            "Current rotation angles: [1.54062 3.12792]\n",
            "Cost after step 76000:  0.0002000\n",
            "Current rotation angles: [1.54269 3.13231]\n",
            "Cost after step 78000:  0.0098000\n",
            "Current rotation angles: [1.54362 3.14873]\n",
            "Cost after step 80000:  0.0018000\n",
            "Current rotation angles: [1.51339 3.15681]\n",
            "Cost after step 82000:  0.0072000\n",
            "Current rotation angles: [1.54904 3.10411]\n",
            "Cost after step 84000:  0.0008000\n",
            "Current rotation angles: [1.57882 3.09574]\n",
            "Cost after step 86000:  0.0008000\n",
            "Current rotation angles: [1.58659 3.12994]\n",
            "Cost after step 88000:  0.0002000\n",
            "Current rotation angles: [1.55117 3.16505]\n",
            "Cost after step 90000:  0.0008000\n",
            "Current rotation angles: [1.54463 3.18397]\n",
            "Cost after step 92000:  0.0072000\n",
            "Current rotation angles: [1.59122 3.16861]\n",
            "Cost after step 94000:  0.0072000\n",
            "Current rotation angles: [1.55828 3.15946]\n",
            "Cost after step 96000:  0.0008000\n",
            "Current rotation angles: [1.58064 3.15247]\n",
            "Cost after step 98000:  0.0002000\n",
            "Current rotation angles: [1.53798 3.12897]\n",
            "Cost after step 100000:  0.0050000\n",
            "Current rotation angles: [1.57322 3.09628]\n",
            "Optimized rotation angles: [1.57322 3.09628]\n"
          ],
          "name": "stdout"
        }
      ]
    },
    {
      "cell_type": "code",
      "metadata": {
        "id": "CyZO6SM7QweR",
        "outputId": "6478f965-b4e0-47bd-e080-03aaf41d645c",
        "colab": {
          "base_uri": "https://localhost:8080/",
          "height": 34
        }
      },
      "source": [
        "dev.shots = 10**6\n",
        "np.random.seed(0)\n",
        "circuit([1.58733, 3.10942])"
      ],
      "execution_count": 57,
      "outputs": [
        {
          "output_type": "execute_result",
          "data": {
            "text/plain": [
              "array([1.17000e-04, 4.90871e-01, 5.08864e-01, 1.48000e-04])"
            ]
          },
          "metadata": {
            "tags": []
          },
          "execution_count": 57
        }
      ]
    },
    {
      "cell_type": "code",
      "metadata": {
        "id": "LE9CFFafWaLj",
        "outputId": "618514da-1d1a-4dd4-d3d6-3c47e58e9ef5",
        "colab": {
          "base_uri": "https://localhost:8080/",
          "height": 34
        }
      },
      "source": [
        "dev.shots = 10**6\n",
        "np.random.seed(0)\n",
        "circuit([1.57107, 3.16395])"
      ],
      "execution_count": 58,
      "outputs": [
        {
          "output_type": "execute_result",
          "data": {
            "text/plain": [
              "array([6.10000e-05, 4.99002e-01, 5.00869e-01, 6.80000e-05])"
            ]
          },
          "metadata": {
            "tags": []
          },
          "execution_count": 58
        }
      ]
    },
    {
      "cell_type": "code",
      "metadata": {
        "id": "55sNTLJMWalP",
        "outputId": "d7dfad18-769b-45fd-9a89-75b4a0dd1fc7",
        "colab": {
          "base_uri": "https://localhost:8080/",
          "height": 34
        }
      },
      "source": [
        "dev.shots = 10**6\n",
        "np.random.seed(0)\n",
        "circuit([1.57322, 3.09628])"
      ],
      "execution_count": 59,
      "outputs": [
        {
          "output_type": "execute_result",
          "data": {
            "text/plain": [
              "array([2.47000e-04, 4.97769e-01, 5.01706e-01, 2.78000e-04])"
            ]
          },
          "metadata": {
            "tags": []
          },
          "execution_count": 59
        }
      ]
    },
    {
      "cell_type": "code",
      "metadata": {
        "id": "xrrvedZRTHt7",
        "outputId": "e3de7904-8db3-48ff-ab77-5a2df7259cae",
        "colab": {
          "base_uri": "https://localhost:8080/",
          "height": 34
        }
      },
      "source": [
        "dev.shots = 1000000\n",
        "circuit([1.451, 3.244])"
      ],
      "execution_count": 37,
      "outputs": [
        {
          "output_type": "execute_result",
          "data": {
            "text/plain": [
              "array([0.001485, 0.558185, 0.439169, 0.001161])"
            ]
          },
          "metadata": {
            "tags": []
          },
          "execution_count": 37
        }
      ]
    },
    {
      "cell_type": "code",
      "metadata": {
        "id": "N8EM3CAYXCP_",
        "outputId": "7381bb29-4907-4d3a-e308-242ba5a8a51b",
        "colab": {
          "base_uri": "https://localhost:8080/",
          "height": 34
        }
      },
      "source": [
        "circuit2([1.451, 3.244])"
      ],
      "execution_count": 51,
      "outputs": [
        {
          "output_type": "execute_result",
          "data": {
            "text/plain": [
              "array([0.00146629, 0.55828871, 0.43909177, 0.00115323])"
            ]
          },
          "metadata": {
            "tags": []
          },
          "execution_count": 51
        }
      ]
    },
    {
      "cell_type": "code",
      "metadata": {
        "id": "9f5L3oETXEv7",
        "outputId": "f745bbf4-919c-405c-f969-e04cfe13255b",
        "colab": {
          "base_uri": "https://localhost:8080/",
          "height": 34
        }
      },
      "source": [
        "circuit2([1.58733, 3.10942])"
      ],
      "execution_count": 60,
      "outputs": [
        {
          "output_type": "execute_result",
          "data": {
            "text/plain": [
              "array([1.27234868e-04, 4.91606305e-01, 5.08134947e-01, 1.31512722e-04])"
            ]
          },
          "metadata": {
            "tags": []
          },
          "execution_count": 60
        }
      ]
    },
    {
      "cell_type": "code",
      "metadata": {
        "id": "6KFqMXDGcdaF",
        "outputId": "bbed945a-cbd7-49c6-a6dc-5d7e03953969",
        "colab": {
          "base_uri": "https://localhost:8080/",
          "height": 34
        }
      },
      "source": [
        "circuit2([1.57107, 3.16395])"
      ],
      "execution_count": 61,
      "outputs": [
        {
          "output_type": "execute_result",
          "data": {
            "text/plain": [
              "array([6.24616660e-05, 4.99800702e-01, 5.00074341e-01, 6.24958635e-05])"
            ]
          },
          "metadata": {
            "tags": []
          },
          "execution_count": 61
        }
      ]
    },
    {
      "cell_type": "code",
      "metadata": {
        "id": "0MNr5ytYciZW",
        "outputId": "069cb758-cca9-42a2-8c34-4ad078d33fb7",
        "colab": {
          "base_uri": "https://localhost:8080/",
          "height": 34
        }
      },
      "source": [
        "circuit2([1.57322, 3.09628])"
      ],
      "execution_count": 63,
      "outputs": [
        {
          "output_type": "execute_result",
          "data": {
            "text/plain": [
              "array([2.55988721e-04, 4.98532176e-01, 5.00954603e-01, 2.57232600e-04])"
            ]
          },
          "metadata": {
            "tags": []
          },
          "execution_count": 63
        }
      ]
    },
    {
      "cell_type": "code",
      "metadata": {
        "id": "aqih12VtcwWn",
        "outputId": "a58f1776-0edc-4efc-a00d-83dd40a754da",
        "colab": {
          "base_uri": "https://localhost:8080/",
          "height": 34
        }
      },
      "source": [
        "circuit2([1.53798, 3.12897])"
      ],
      "execution_count": 65,
      "outputs": [
        {
          "output_type": "execute_result",
          "data": {
            "text/plain": [
              "array([2.05696164e-05, 5.16384649e-01, 4.83575519e-01, 1.92627006e-05])"
            ]
          },
          "metadata": {
            "tags": []
          },
          "execution_count": 65
        }
      ]
    },
    {
      "cell_type": "code",
      "metadata": {
        "id": "vJ0blY97dEK8",
        "outputId": "325fed81-6d24-4e2c-bef1-812839f4b35c",
        "colab": {
          "base_uri": "https://localhost:8080/",
          "height": 34
        }
      },
      "source": [
        "circuit2([1.55117, 3.16505])"
      ],
      "execution_count": 67,
      "outputs": [
        {
          "output_type": "execute_result",
          "data": {
            "text/plain": [
              "array([7.01275014e-05, 5.09742406e-01, 4.90120039e-01, 6.74279661e-05])"
            ]
          },
          "metadata": {
            "tags": []
          },
          "execution_count": 67
        }
      ]
    }
  ]
}